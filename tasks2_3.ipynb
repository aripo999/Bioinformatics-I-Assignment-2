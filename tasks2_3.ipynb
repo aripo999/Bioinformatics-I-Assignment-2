{
 "cells": [
  {
   "cell_type": "code",
   "execution_count": 114,
   "metadata": {},
   "outputs": [],
   "source": [
    "import pandas as pd\n",
    "from Bio import Entrez\n",
    "import urllib as ul\n",
    "import seaborn as sns\n",
    "\n",
    "Entrez.email = \"a_polakof@ucsb.edu\" "
   ]
  },
  {
   "cell_type": "code",
   "execution_count": 63,
   "metadata": {},
   "outputs": [],
   "source": [
    "df = pd.read_csv(\"SFARI-Gene_genes_09-02-2021release_11-22-2021export.csv\")\n",
    "human_df = pd.read_csv('Homo_sapiens.gene_info.gz', compression='gzip', header=0, sep='\\t')"
   ]
  },
  {
   "cell_type": "code",
   "execution_count": 64,
   "metadata": {
    "scrolled": true
   },
   "outputs": [
    {
     "data": {
      "text/html": [
       "<div>\n",
       "<style scoped>\n",
       "    .dataframe tbody tr th:only-of-type {\n",
       "        vertical-align: middle;\n",
       "    }\n",
       "\n",
       "    .dataframe tbody tr th {\n",
       "        vertical-align: top;\n",
       "    }\n",
       "\n",
       "    .dataframe thead th {\n",
       "        text-align: right;\n",
       "    }\n",
       "</style>\n",
       "<table border=\"1\" class=\"dataframe\">\n",
       "  <thead>\n",
       "    <tr style=\"text-align: right;\">\n",
       "      <th></th>\n",
       "      <th>status</th>\n",
       "      <th>gene-symbol</th>\n",
       "      <th>gene-name</th>\n",
       "      <th>ensembl-id</th>\n",
       "      <th>chromosome</th>\n",
       "      <th>genetic-category</th>\n",
       "      <th>gene-score</th>\n",
       "      <th>syndromic</th>\n",
       "      <th>number-of-reports</th>\n",
       "    </tr>\n",
       "  </thead>\n",
       "  <tbody>\n",
       "    <tr>\n",
       "      <td>0</td>\n",
       "      <td>9</td>\n",
       "      <td>ABAT</td>\n",
       "      <td>4-aminobutyrate aminotransferase</td>\n",
       "      <td>ENSG00000183044</td>\n",
       "      <td>16</td>\n",
       "      <td>Rare Single Gene Mutation, Genetic Association</td>\n",
       "      <td>3.0</td>\n",
       "      <td>0</td>\n",
       "      <td>5</td>\n",
       "    </tr>\n",
       "    <tr>\n",
       "      <td>1</td>\n",
       "      <td>9</td>\n",
       "      <td>ABCA10</td>\n",
       "      <td>ATP-binding cassette, sub-family A (ABC1), mem...</td>\n",
       "      <td>ENSG00000154263</td>\n",
       "      <td>17</td>\n",
       "      <td>Rare Single Gene Mutation</td>\n",
       "      <td>3.0</td>\n",
       "      <td>0</td>\n",
       "      <td>1</td>\n",
       "    </tr>\n",
       "    <tr>\n",
       "      <td>2</td>\n",
       "      <td>9</td>\n",
       "      <td>ABCA13</td>\n",
       "      <td>ATP binding cassette subfamily A member 13</td>\n",
       "      <td>ENSG00000179869</td>\n",
       "      <td>7</td>\n",
       "      <td>Rare Single Gene Mutation, Functional</td>\n",
       "      <td>3.0</td>\n",
       "      <td>0</td>\n",
       "      <td>6</td>\n",
       "    </tr>\n",
       "    <tr>\n",
       "      <td>3</td>\n",
       "      <td>9</td>\n",
       "      <td>ABCA7</td>\n",
       "      <td>ATP-binding cassette, sub-family A (ABC1), mem...</td>\n",
       "      <td>ENSG00000064687</td>\n",
       "      <td>19</td>\n",
       "      <td>Rare Single Gene Mutation</td>\n",
       "      <td>3.0</td>\n",
       "      <td>0</td>\n",
       "      <td>4</td>\n",
       "    </tr>\n",
       "    <tr>\n",
       "      <td>4</td>\n",
       "      <td>9</td>\n",
       "      <td>ACE</td>\n",
       "      <td>angiotensin I converting enzyme</td>\n",
       "      <td>ENSG00000159640</td>\n",
       "      <td>17</td>\n",
       "      <td>Rare Single Gene Mutation, Genetic Association</td>\n",
       "      <td>3.0</td>\n",
       "      <td>0</td>\n",
       "      <td>3</td>\n",
       "    </tr>\n",
       "  </tbody>\n",
       "</table>\n",
       "</div>"
      ],
      "text/plain": [
       "   status gene-symbol                                          gene-name  \\\n",
       "0       9        ABAT                   4-aminobutyrate aminotransferase   \n",
       "1       9      ABCA10  ATP-binding cassette, sub-family A (ABC1), mem...   \n",
       "2       9      ABCA13         ATP binding cassette subfamily A member 13   \n",
       "3       9       ABCA7  ATP-binding cassette, sub-family A (ABC1), mem...   \n",
       "4       9         ACE                    angiotensin I converting enzyme   \n",
       "\n",
       "        ensembl-id chromosome                                genetic-category  \\\n",
       "0  ENSG00000183044         16  Rare Single Gene Mutation, Genetic Association   \n",
       "1  ENSG00000154263         17                       Rare Single Gene Mutation   \n",
       "2  ENSG00000179869          7           Rare Single Gene Mutation, Functional   \n",
       "3  ENSG00000064687         19                       Rare Single Gene Mutation   \n",
       "4  ENSG00000159640         17  Rare Single Gene Mutation, Genetic Association   \n",
       "\n",
       "   gene-score  syndromic  number-of-reports  \n",
       "0         3.0          0                  5  \n",
       "1         3.0          0                  1  \n",
       "2         3.0          0                  6  \n",
       "3         3.0          0                  4  \n",
       "4         3.0          0                  3  "
      ]
     },
     "execution_count": 64,
     "metadata": {},
     "output_type": "execute_result"
    }
   ],
   "source": [
    "df.head()"
   ]
  },
  {
   "cell_type": "code",
   "execution_count": 65,
   "metadata": {},
   "outputs": [
    {
     "data": {
      "text/html": [
       "<div>\n",
       "<style scoped>\n",
       "    .dataframe tbody tr th:only-of-type {\n",
       "        vertical-align: middle;\n",
       "    }\n",
       "\n",
       "    .dataframe tbody tr th {\n",
       "        vertical-align: top;\n",
       "    }\n",
       "\n",
       "    .dataframe thead th {\n",
       "        text-align: right;\n",
       "    }\n",
       "</style>\n",
       "<table border=\"1\" class=\"dataframe\">\n",
       "  <thead>\n",
       "    <tr style=\"text-align: right;\">\n",
       "      <th></th>\n",
       "      <th>GeneID</th>\n",
       "      <th>gene-symbol</th>\n",
       "    </tr>\n",
       "  </thead>\n",
       "  <tbody>\n",
       "    <tr>\n",
       "      <td>0</td>\n",
       "      <td>1</td>\n",
       "      <td>A1BG</td>\n",
       "    </tr>\n",
       "    <tr>\n",
       "      <td>1</td>\n",
       "      <td>2</td>\n",
       "      <td>A2M</td>\n",
       "    </tr>\n",
       "    <tr>\n",
       "      <td>2</td>\n",
       "      <td>3</td>\n",
       "      <td>A2MP1</td>\n",
       "    </tr>\n",
       "    <tr>\n",
       "      <td>3</td>\n",
       "      <td>9</td>\n",
       "      <td>NAT1</td>\n",
       "    </tr>\n",
       "    <tr>\n",
       "      <td>4</td>\n",
       "      <td>10</td>\n",
       "      <td>NAT2</td>\n",
       "    </tr>\n",
       "  </tbody>\n",
       "</table>\n",
       "</div>"
      ],
      "text/plain": [
       "   GeneID gene-symbol\n",
       "0       1        A1BG\n",
       "1       2         A2M\n",
       "2       3       A2MP1\n",
       "3       9        NAT1\n",
       "4      10        NAT2"
      ]
     },
     "execution_count": 65,
     "metadata": {},
     "output_type": "execute_result"
    }
   ],
   "source": [
    "gene_symbol_to_id_human = human_df.rename(columns={\"Symbol\": \"gene-symbol\"}).iloc[:, 1:3]\n",
    "gene_symbol_to_id_human.head()"
   ]
  },
  {
   "cell_type": "code",
   "execution_count": 66,
   "metadata": {},
   "outputs": [
    {
     "data": {
      "text/html": [
       "<div>\n",
       "<style scoped>\n",
       "    .dataframe tbody tr th:only-of-type {\n",
       "        vertical-align: middle;\n",
       "    }\n",
       "\n",
       "    .dataframe tbody tr th {\n",
       "        vertical-align: top;\n",
       "    }\n",
       "\n",
       "    .dataframe thead th {\n",
       "        text-align: right;\n",
       "    }\n",
       "</style>\n",
       "<table border=\"1\" class=\"dataframe\">\n",
       "  <thead>\n",
       "    <tr style=\"text-align: right;\">\n",
       "      <th></th>\n",
       "      <th>status</th>\n",
       "      <th>gene-symbol</th>\n",
       "      <th>gene-name</th>\n",
       "      <th>ensembl-id</th>\n",
       "      <th>chromosome</th>\n",
       "      <th>genetic-category</th>\n",
       "      <th>gene-score</th>\n",
       "      <th>syndromic</th>\n",
       "      <th>number-of-reports</th>\n",
       "      <th>GeneID</th>\n",
       "    </tr>\n",
       "  </thead>\n",
       "  <tbody>\n",
       "    <tr>\n",
       "      <td>0</td>\n",
       "      <td>9</td>\n",
       "      <td>ABAT</td>\n",
       "      <td>4-aminobutyrate aminotransferase</td>\n",
       "      <td>ENSG00000183044</td>\n",
       "      <td>16</td>\n",
       "      <td>Rare Single Gene Mutation, Genetic Association</td>\n",
       "      <td>3.0</td>\n",
       "      <td>0</td>\n",
       "      <td>5</td>\n",
       "      <td>18</td>\n",
       "    </tr>\n",
       "    <tr>\n",
       "      <td>1</td>\n",
       "      <td>9</td>\n",
       "      <td>ABCA10</td>\n",
       "      <td>ATP-binding cassette, sub-family A (ABC1), mem...</td>\n",
       "      <td>ENSG00000154263</td>\n",
       "      <td>17</td>\n",
       "      <td>Rare Single Gene Mutation</td>\n",
       "      <td>3.0</td>\n",
       "      <td>0</td>\n",
       "      <td>1</td>\n",
       "      <td>10349</td>\n",
       "    </tr>\n",
       "    <tr>\n",
       "      <td>2</td>\n",
       "      <td>9</td>\n",
       "      <td>ABCA13</td>\n",
       "      <td>ATP binding cassette subfamily A member 13</td>\n",
       "      <td>ENSG00000179869</td>\n",
       "      <td>7</td>\n",
       "      <td>Rare Single Gene Mutation, Functional</td>\n",
       "      <td>3.0</td>\n",
       "      <td>0</td>\n",
       "      <td>6</td>\n",
       "      <td>154664</td>\n",
       "    </tr>\n",
       "    <tr>\n",
       "      <td>3</td>\n",
       "      <td>9</td>\n",
       "      <td>ABCA7</td>\n",
       "      <td>ATP-binding cassette, sub-family A (ABC1), mem...</td>\n",
       "      <td>ENSG00000064687</td>\n",
       "      <td>19</td>\n",
       "      <td>Rare Single Gene Mutation</td>\n",
       "      <td>3.0</td>\n",
       "      <td>0</td>\n",
       "      <td>4</td>\n",
       "      <td>10347</td>\n",
       "    </tr>\n",
       "    <tr>\n",
       "      <td>4</td>\n",
       "      <td>9</td>\n",
       "      <td>ACE</td>\n",
       "      <td>angiotensin I converting enzyme</td>\n",
       "      <td>ENSG00000159640</td>\n",
       "      <td>17</td>\n",
       "      <td>Rare Single Gene Mutation, Genetic Association</td>\n",
       "      <td>3.0</td>\n",
       "      <td>0</td>\n",
       "      <td>3</td>\n",
       "      <td>1636</td>\n",
       "    </tr>\n",
       "  </tbody>\n",
       "</table>\n",
       "</div>"
      ],
      "text/plain": [
       "   status gene-symbol                                          gene-name  \\\n",
       "0       9        ABAT                   4-aminobutyrate aminotransferase   \n",
       "1       9      ABCA10  ATP-binding cassette, sub-family A (ABC1), mem...   \n",
       "2       9      ABCA13         ATP binding cassette subfamily A member 13   \n",
       "3       9       ABCA7  ATP-binding cassette, sub-family A (ABC1), mem...   \n",
       "4       9         ACE                    angiotensin I converting enzyme   \n",
       "\n",
       "        ensembl-id chromosome                                genetic-category  \\\n",
       "0  ENSG00000183044         16  Rare Single Gene Mutation, Genetic Association   \n",
       "1  ENSG00000154263         17                       Rare Single Gene Mutation   \n",
       "2  ENSG00000179869          7           Rare Single Gene Mutation, Functional   \n",
       "3  ENSG00000064687         19                       Rare Single Gene Mutation   \n",
       "4  ENSG00000159640         17  Rare Single Gene Mutation, Genetic Association   \n",
       "\n",
       "   gene-score  syndromic  number-of-reports  GeneID  \n",
       "0         3.0          0                  5      18  \n",
       "1         3.0          0                  1   10349  \n",
       "2         3.0          0                  6  154664  \n",
       "3         3.0          0                  4   10347  \n",
       "4         3.0          0                  3    1636  "
      ]
     },
     "execution_count": 66,
     "metadata": {},
     "output_type": "execute_result"
    }
   ],
   "source": [
    "# Next we want to look at some of the functional terms that have been annotated to SFARI genes\n",
    "# separating them out by their gene-score.\n",
    "\n",
    "# Task 1 – Map the gene-symbol for every gene in the SFARI gene list to an NCBI UID (unique Entrez Gene identifier)(2)\n",
    "\n",
    "# Use Homo_sapiens gene info for this.\n",
    "df_ncbi_uid = df.copy()\n",
    "df_ncbi_uid = df_ncbi_uid.merge(gene_symbol_to_id_human, on=\"gene-symbol\")\n",
    "df_ncbi_uid.head()"
   ]
  },
  {
   "cell_type": "code",
   "execution_count": 67,
   "metadata": {},
   "outputs": [
    {
     "name": "stdout",
     "output_type": "stream",
     "text": [
      "Previous shape:  (1023, 9)\n",
      "Current shape with mapped gene list to NCBI UID:  (1018, 10)\n"
     ]
    }
   ],
   "source": [
    "print(\"Previous shape: \", df.shape)\n",
    "print(\"Current shape with mapped gene list to NCBI UID: \", df_ncbi_uid.shape)"
   ]
  },
  {
   "cell_type": "code",
   "execution_count": 68,
   "metadata": {},
   "outputs": [],
   "source": [
    "# Task 2 – Using the gene2go file from NCBI that we worked with in week 8 find the Gene Ontology\n",
    "# terms that have been annotated to all of the SFARI genes (4marks).\n",
    "\n",
    "# ul.request.urlretrieve('https://ftp.ncbi.nlm.nih.gov/gene/DATA/gene2go.gz','gene2go.gz')\n",
    "gene2go = pd.read_csv('gene2go.gz', compression='gzip', header=0, sep='\\t')"
   ]
  },
  {
   "cell_type": "code",
   "execution_count": 69,
   "metadata": {},
   "outputs": [
    {
     "data": {
      "text/plain": [
       "GO_ID\n",
       "GO:0005515    711\n",
       "GO:0005886    512\n",
       "GO:0005634    502\n",
       "GO:0005829    470\n",
       "GO:0005654    418\n",
       "             ... \n",
       "GO:0045047      1\n",
       "GO:0045027      1\n",
       "GO:0045010      1\n",
       "GO:0045008      1\n",
       "GO:0035932      1\n",
       "Name: GO_term, Length: 6258, dtype: int64"
      ]
     },
     "execution_count": 69,
     "metadata": {},
     "output_type": "execute_result"
    }
   ],
   "source": [
    "# Restrict to human genes\n",
    "\n",
    "human_gene2go = gene2go[gene2go['#tax_id']==9606]\n",
    "\n",
    "human_sfari = pd.merge(df_ncbi_uid, human_gene2go, on=\"GeneID\")[[\"GeneID\", \"GO_ID\", \"GO_term\"]]\n",
    "\n",
    "# drop duplicates 27389\n",
    "human_sfari_unique = human_sfari[['GO_ID','GO_term']].drop_duplicates() # Do i need to drop duplicates?\n",
    "# Gets how many times GO_ID was annotated to distinct genes \n",
    "# In other words, GO:0005515 was annotated in 711 different genes\n",
    "human_sfari.groupby(\"GO_ID\").count().iloc[:, 1].sort_values(ascending=False)"
   ]
  },
  {
   "cell_type": "code",
   "execution_count": 70,
   "metadata": {},
   "outputs": [
    {
     "data": {
      "text/plain": [
       "GO_term\n",
       "protein binding                                                                           711\n",
       "plasma membrane                                                                           512\n",
       "nucleus                                                                                   502\n",
       "cytosol                                                                                   470\n",
       "nucleoplasm                                                                               418\n",
       "                                                                                         ... \n",
       "negative regulation of thrombin-activated receptor signaling pathway                        1\n",
       "negative regulation of termination of RNA polymerase II transcription, poly(A)-coupled      1\n",
       "negative regulation of telomeric RNA transcription from RNA pol II promoter                 1\n",
       "negative regulation of telomere single strand break repair                                  1\n",
       "negative regulation of delayed rectifier potassium channel activity                         1\n",
       "Name: GO_ID, Length: 6258, dtype: int64"
      ]
     },
     "execution_count": 70,
     "metadata": {},
     "output_type": "execute_result"
    }
   ],
   "source": [
    "human_sfari.groupby(\"GO_term\").count().iloc[:, 1].sort_values(ascending=False)"
   ]
  },
  {
   "cell_type": "code",
   "execution_count": 71,
   "metadata": {},
   "outputs": [],
   "source": [
    "# Task 3 – Now split the genes up into three lists by their SFARI gene-score (1 mark).\n",
    "\n",
    "df_ncbi_grouped_by_gene_score= df_ncbi_uid.groupby(\"gene-score\")\n",
    "\n",
    "df_gene_score_1 = df_ncbi_grouped_by_gene_score.get_group(1.0)\n",
    "df_gene_score_2 = df_ncbi_grouped_by_gene_score.get_group(2.0)\n",
    "df_gene_score_3 = df_ncbi_grouped_by_gene_score.get_group(3.0)\n"
   ]
  },
  {
   "cell_type": "code",
   "execution_count": 80,
   "metadata": {},
   "outputs": [],
   "source": [
    "# Task 4 – Create tables of the 10 most commonly annotated terms for each gene list.\n",
    "# The tables should have the following columns: GO term ID, GO term Description, GO term count (3 marks)\n",
    "\n",
    "# Now select 10 most commonly annotated terms\n",
    "df_gs1_most_annotated = pd.merge(df_gene_score_1, human_gene2go, on=\"GeneID\")[[\"GO_ID\", \"GO_term\"]]\n",
    "ps1 = df_gs1_most_annotated.groupby(\"GO_term\").count().iloc[:,0]\n",
    "df_gs1_most_annotated = pd.merge(df_gs1_most_annotated, ps1.to_frame(name=\"GO_term_count\"), on=\"GO_term\").drop_duplicates().sort_values(by=[\"GO_term_count\"], ascending=False).iloc[:10, :]\n",
    "\n",
    "df_gs2_most_annotated = pd.merge(df_gene_score_2, human_gene2go, on=\"GeneID\")[[\"GO_ID\", \"GO_term\"]]\n",
    "ps2 = df_gs2_most_annotated.groupby(\"GO_term\").count().iloc[:,0]\n",
    "df_gs2_most_annotated = pd.merge(df_gs2_most_annotated, ps2.to_frame(name=\"GO_term_count\"), on=\"GO_term\").drop_duplicates().sort_values(by=[\"GO_term_count\"], ascending=False).iloc[:10, :]\n",
    "\n",
    "df_gs3_most_annotated = pd.merge(df_gene_score_3, human_gene2go, on=\"GeneID\")[[\"GO_ID\", \"GO_term\"]]\n",
    "ps3 = df_gs3_most_annotated.groupby(\"GO_term\").count().iloc[:,0]\n",
    "df_gs3_most_annotated = pd.merge(df_gs3_most_annotated, ps3.to_frame(name=\"GO_term_count\"), on=\"GO_term\").drop_duplicates().sort_values(by=[\"GO_term_count\"], ascending=False).iloc[:10, :]\n"
   ]
  },
  {
   "cell_type": "code",
   "execution_count": 82,
   "metadata": {},
   "outputs": [
    {
     "data": {
      "text/html": [
       "<div>\n",
       "<style scoped>\n",
       "    .dataframe tbody tr th:only-of-type {\n",
       "        vertical-align: middle;\n",
       "    }\n",
       "\n",
       "    .dataframe tbody tr th {\n",
       "        vertical-align: top;\n",
       "    }\n",
       "\n",
       "    .dataframe thead th {\n",
       "        text-align: right;\n",
       "    }\n",
       "</style>\n",
       "<table border=\"1\" class=\"dataframe\">\n",
       "  <thead>\n",
       "    <tr style=\"text-align: right;\">\n",
       "      <th></th>\n",
       "      <th>GO_ID</th>\n",
       "      <th>GO_term</th>\n",
       "      <th>GO_term_count</th>\n",
       "    </tr>\n",
       "  </thead>\n",
       "  <tbody>\n",
       "    <tr>\n",
       "      <td>47</td>\n",
       "      <td>GO:0005515</td>\n",
       "      <td>protein binding</td>\n",
       "      <td>161</td>\n",
       "    </tr>\n",
       "    <tr>\n",
       "      <td>248</td>\n",
       "      <td>GO:0005634</td>\n",
       "      <td>nucleus</td>\n",
       "      <td>155</td>\n",
       "    </tr>\n",
       "    <tr>\n",
       "      <td>403</td>\n",
       "      <td>GO:0005654</td>\n",
       "      <td>nucleoplasm</td>\n",
       "      <td>133</td>\n",
       "    </tr>\n",
       "    <tr>\n",
       "      <td>610</td>\n",
       "      <td>GO:0005829</td>\n",
       "      <td>cytosol</td>\n",
       "      <td>97</td>\n",
       "    </tr>\n",
       "    <tr>\n",
       "      <td>719</td>\n",
       "      <td>GO:0005886</td>\n",
       "      <td>plasma membrane</td>\n",
       "      <td>94</td>\n",
       "    </tr>\n",
       "    <tr>\n",
       "      <td>536</td>\n",
       "      <td>GO:0005737</td>\n",
       "      <td>cytoplasm</td>\n",
       "      <td>74</td>\n",
       "    </tr>\n",
       "    <tr>\n",
       "      <td>2144</td>\n",
       "      <td>GO:0045944</td>\n",
       "      <td>positive regulation of transcription by RNA po...</td>\n",
       "      <td>68</td>\n",
       "    </tr>\n",
       "    <tr>\n",
       "      <td>1140</td>\n",
       "      <td>GO:0000981</td>\n",
       "      <td>DNA-binding transcription factor activity, RNA...</td>\n",
       "      <td>51</td>\n",
       "    </tr>\n",
       "    <tr>\n",
       "      <td>1262</td>\n",
       "      <td>GO:0006357</td>\n",
       "      <td>regulation of transcription by RNA polymerase II</td>\n",
       "      <td>49</td>\n",
       "    </tr>\n",
       "    <tr>\n",
       "      <td>1968</td>\n",
       "      <td>GO:0000122</td>\n",
       "      <td>negative regulation of transcription by RNA po...</td>\n",
       "      <td>48</td>\n",
       "    </tr>\n",
       "  </tbody>\n",
       "</table>\n",
       "</div>"
      ],
      "text/plain": [
       "           GO_ID                                            GO_term  \\\n",
       "47    GO:0005515                                    protein binding   \n",
       "248   GO:0005634                                            nucleus   \n",
       "403   GO:0005654                                        nucleoplasm   \n",
       "610   GO:0005829                                            cytosol   \n",
       "719   GO:0005886                                    plasma membrane   \n",
       "536   GO:0005737                                          cytoplasm   \n",
       "2144  GO:0045944  positive regulation of transcription by RNA po...   \n",
       "1140  GO:0000981  DNA-binding transcription factor activity, RNA...   \n",
       "1262  GO:0006357   regulation of transcription by RNA polymerase II   \n",
       "1968  GO:0000122  negative regulation of transcription by RNA po...   \n",
       "\n",
       "      GO_term_count  \n",
       "47              161  \n",
       "248             155  \n",
       "403             133  \n",
       "610              97  \n",
       "719              94  \n",
       "536              74  \n",
       "2144             68  \n",
       "1140             51  \n",
       "1262             49  \n",
       "1968             48  "
      ]
     },
     "execution_count": 82,
     "metadata": {},
     "output_type": "execute_result"
    }
   ],
   "source": [
    "df_gs1_most_annotated"
   ]
  },
  {
   "cell_type": "code",
   "execution_count": 84,
   "metadata": {},
   "outputs": [
    {
     "data": {
      "text/html": [
       "<div>\n",
       "<style scoped>\n",
       "    .dataframe tbody tr th:only-of-type {\n",
       "        vertical-align: middle;\n",
       "    }\n",
       "\n",
       "    .dataframe tbody tr th {\n",
       "        vertical-align: top;\n",
       "    }\n",
       "\n",
       "    .dataframe thead th {\n",
       "        text-align: right;\n",
       "    }\n",
       "</style>\n",
       "<table border=\"1\" class=\"dataframe\">\n",
       "  <thead>\n",
       "    <tr style=\"text-align: right;\">\n",
       "      <th></th>\n",
       "      <th>GO_ID</th>\n",
       "      <th>GO_term</th>\n",
       "      <th>GO_term_count</th>\n",
       "    </tr>\n",
       "  </thead>\n",
       "  <tbody>\n",
       "    <tr>\n",
       "      <td>16</td>\n",
       "      <td>GO:0005515</td>\n",
       "      <td>protein binding</td>\n",
       "      <td>150</td>\n",
       "    </tr>\n",
       "    <tr>\n",
       "      <td>348</td>\n",
       "      <td>GO:0005886</td>\n",
       "      <td>plasma membrane</td>\n",
       "      <td>125</td>\n",
       "    </tr>\n",
       "    <tr>\n",
       "      <td>210</td>\n",
       "      <td>GO:0005634</td>\n",
       "      <td>nucleus</td>\n",
       "      <td>114</td>\n",
       "    </tr>\n",
       "    <tr>\n",
       "      <td>675</td>\n",
       "      <td>GO:0005829</td>\n",
       "      <td>cytosol</td>\n",
       "      <td>109</td>\n",
       "    </tr>\n",
       "    <tr>\n",
       "      <td>1179</td>\n",
       "      <td>GO:0005654</td>\n",
       "      <td>nucleoplasm</td>\n",
       "      <td>92</td>\n",
       "    </tr>\n",
       "    <tr>\n",
       "      <td>928</td>\n",
       "      <td>GO:0005737</td>\n",
       "      <td>cytoplasm</td>\n",
       "      <td>86</td>\n",
       "    </tr>\n",
       "    <tr>\n",
       "      <td>525</td>\n",
       "      <td>GO:0016020</td>\n",
       "      <td>membrane</td>\n",
       "      <td>39</td>\n",
       "    </tr>\n",
       "    <tr>\n",
       "      <td>1634</td>\n",
       "      <td>GO:0098978</td>\n",
       "      <td>glutamatergic synapse</td>\n",
       "      <td>38</td>\n",
       "    </tr>\n",
       "    <tr>\n",
       "      <td>1362</td>\n",
       "      <td>GO:0003723</td>\n",
       "      <td>RNA binding</td>\n",
       "      <td>38</td>\n",
       "    </tr>\n",
       "    <tr>\n",
       "      <td>1014</td>\n",
       "      <td>GO:0005887</td>\n",
       "      <td>integral component of plasma membrane</td>\n",
       "      <td>34</td>\n",
       "    </tr>\n",
       "  </tbody>\n",
       "</table>\n",
       "</div>"
      ],
      "text/plain": [
       "           GO_ID                                GO_term  GO_term_count\n",
       "16    GO:0005515                        protein binding            150\n",
       "348   GO:0005886                        plasma membrane            125\n",
       "210   GO:0005634                                nucleus            114\n",
       "675   GO:0005829                                cytosol            109\n",
       "1179  GO:0005654                            nucleoplasm             92\n",
       "928   GO:0005737                              cytoplasm             86\n",
       "525   GO:0016020                               membrane             39\n",
       "1634  GO:0098978                  glutamatergic synapse             38\n",
       "1362  GO:0003723                            RNA binding             38\n",
       "1014  GO:0005887  integral component of plasma membrane             34"
      ]
     },
     "execution_count": 84,
     "metadata": {},
     "output_type": "execute_result"
    }
   ],
   "source": [
    "df_gs2_most_annotated"
   ]
  },
  {
   "cell_type": "code",
   "execution_count": 85,
   "metadata": {},
   "outputs": [
    {
     "data": {
      "text/html": [
       "<div>\n",
       "<style scoped>\n",
       "    .dataframe tbody tr th:only-of-type {\n",
       "        vertical-align: middle;\n",
       "    }\n",
       "\n",
       "    .dataframe tbody tr th {\n",
       "        vertical-align: top;\n",
       "    }\n",
       "\n",
       "    .dataframe thead th {\n",
       "        text-align: right;\n",
       "    }\n",
       "</style>\n",
       "<table border=\"1\" class=\"dataframe\">\n",
       "  <thead>\n",
       "    <tr style=\"text-align: right;\">\n",
       "      <th></th>\n",
       "      <th>GO_ID</th>\n",
       "      <th>GO_term</th>\n",
       "      <th>GO_term_count</th>\n",
       "    </tr>\n",
       "  </thead>\n",
       "  <tbody>\n",
       "    <tr>\n",
       "      <td>1471</td>\n",
       "      <td>GO:0005515</td>\n",
       "      <td>protein binding</td>\n",
       "      <td>340</td>\n",
       "    </tr>\n",
       "    <tr>\n",
       "      <td>503</td>\n",
       "      <td>GO:0005886</td>\n",
       "      <td>plasma membrane</td>\n",
       "      <td>262</td>\n",
       "    </tr>\n",
       "    <tr>\n",
       "      <td>2163</td>\n",
       "      <td>GO:0005829</td>\n",
       "      <td>cytosol</td>\n",
       "      <td>220</td>\n",
       "    </tr>\n",
       "    <tr>\n",
       "      <td>1811</td>\n",
       "      <td>GO:0005634</td>\n",
       "      <td>nucleus</td>\n",
       "      <td>185</td>\n",
       "    </tr>\n",
       "    <tr>\n",
       "      <td>1996</td>\n",
       "      <td>GO:0005737</td>\n",
       "      <td>cytoplasm</td>\n",
       "      <td>167</td>\n",
       "    </tr>\n",
       "    <tr>\n",
       "      <td>2811</td>\n",
       "      <td>GO:0005654</td>\n",
       "      <td>nucleoplasm</td>\n",
       "      <td>152</td>\n",
       "    </tr>\n",
       "    <tr>\n",
       "      <td>2637</td>\n",
       "      <td>GO:0005887</td>\n",
       "      <td>integral component of plasma membrane</td>\n",
       "      <td>96</td>\n",
       "    </tr>\n",
       "    <tr>\n",
       "      <td>387</td>\n",
       "      <td>GO:0016021</td>\n",
       "      <td>integral component of membrane</td>\n",
       "      <td>87</td>\n",
       "    </tr>\n",
       "    <tr>\n",
       "      <td>3261</td>\n",
       "      <td>GO:0016020</td>\n",
       "      <td>membrane</td>\n",
       "      <td>75</td>\n",
       "    </tr>\n",
       "    <tr>\n",
       "      <td>240</td>\n",
       "      <td>GO:0046872</td>\n",
       "      <td>metal ion binding</td>\n",
       "      <td>68</td>\n",
       "    </tr>\n",
       "  </tbody>\n",
       "</table>\n",
       "</div>"
      ],
      "text/plain": [
       "           GO_ID                                GO_term  GO_term_count\n",
       "1471  GO:0005515                        protein binding            340\n",
       "503   GO:0005886                        plasma membrane            262\n",
       "2163  GO:0005829                                cytosol            220\n",
       "1811  GO:0005634                                nucleus            185\n",
       "1996  GO:0005737                              cytoplasm            167\n",
       "2811  GO:0005654                            nucleoplasm            152\n",
       "2637  GO:0005887  integral component of plasma membrane             96\n",
       "387   GO:0016021         integral component of membrane             87\n",
       "3261  GO:0016020                               membrane             75\n",
       "240   GO:0046872                      metal ion binding             68"
      ]
     },
     "execution_count": 85,
     "metadata": {},
     "output_type": "execute_result"
    }
   ],
   "source": [
    "df_gs3_most_annotated"
   ]
  },
  {
   "cell_type": "code",
   "execution_count": 127,
   "metadata": {},
   "outputs": [],
   "source": [
    "# Task 5 – Take the three lists of UIDs created above and use the PantherDB tool -\n",
    "# http://pantherdb.org/ to perform a “Functional classification viewed in graphic charts” analysis reporting \n",
    "# and select the “Bar chart” display option, using default settings. Once on the results page displaying \n",
    "# the bar chart use the pull-down menu to change the ontology to “Biological Process”. \n",
    "# Click the small (!) “export” button to download the results as a text file and us this to make your own bar chart \n",
    "# (5 marks).\n",
    "\n",
    "def write_uids_to_file(df, file_name):\n",
    "    textfile = open(file_name, \"w\")\n",
    "    for row in df.iterrows():\n",
    "        textfile.write(str(row[1][\"GeneID\"]) + \"\\n\")\n",
    "    textfile.close()\n",
    "    \n",
    "write_uids_to_file(df_gene_score_1, \"df_gs1_most_annotated.txt\")\n",
    "write_uids_to_file(df_gene_score_2, \"df_gs2_most_annotated.txt\")\n",
    "write_uids_to_file(df_gene_score_3, \"df_gs3_most_annotated.txt\")"
   ]
  },
  {
   "cell_type": "code",
   "execution_count": 144,
   "metadata": {},
   "outputs": [],
   "source": [
    "# Read txt files of Panther DB so that we can plot them\n",
    "\n",
    "df_pantherchart_score_1 = pd.read_csv(\"pantherChart_gs1.txt\", sep=\"\t\", header=None).iloc[:, 1:3].rename(columns={1:\"Go Biological Process\", 2:\"count\"}).sort_values(by=\"count\", ascending=False)\n",
    "df_pantherchart_score_2 = pd.read_csv(\"pantherChart_gs2.txt\", sep=\"\t\", header=None).iloc[:, 1:3].rename(columns={1:\"Go Biological Process\", 2:\"count\"}).sort_values(by=\"count\", ascending=False)\n",
    "df_pantherchart_score_3 = pd.read_csv(\"pantherChart_gs3.txt\", sep=\"\t\", header=None).iloc[:, 1:3].rename(columns={1:\"Go Biological Process\", 2:\"count\"}).sort_values(by=\"count\", ascending=False)"
   ]
  },
  {
   "cell_type": "code",
   "execution_count": 145,
   "metadata": {},
   "outputs": [
    {
     "data": {
      "text/plain": [
       "<matplotlib.axes._subplots.AxesSubplot at 0x7f7800bf2490>"
      ]
     },
     "execution_count": 145,
     "metadata": {},
     "output_type": "execute_result"
    },
    {
     "data": {
      "image/png": "[encoded data removed]",
      "text/plain": [
       "<Figure size 432x288 with 1 Axes>"
      ]
     },
     "metadata": {
      "needs_background": "light"
     },
     "output_type": "display_data"
    }
   ],
   "source": [
    "sns.barplot(x=\"count\", y=\"Go Biological Process\", data=df_pantherchart_score_1)"
   ]
  },
  {
   "cell_type": "code",
   "execution_count": 146,
   "metadata": {},
   "outputs": [
    {
     "data": {
      "text/plain": [
       "<matplotlib.axes._subplots.AxesSubplot at 0x7f7800be58d0>"
      ]
     },
     "execution_count": 146,
     "metadata": {},
     "output_type": "execute_result"
    },
    {
     "data": {
      "image/png": "[encoded data removed]",
      "text/plain": [
       "<Figure size 432x288 with 1 Axes>"
      ]
     },
     "metadata": {
      "needs_background": "light"
     },
     "output_type": "display_data"
    }
   ],
   "source": [
    "sns.barplot(x=\"count\", y=\"Go Biological Process\", data=df_pantherchart_score_2)"
   ]
  },
  {
   "cell_type": "code",
   "execution_count": 147,
   "metadata": {},
   "outputs": [
    {
     "data": {
      "text/plain": [
       "<matplotlib.axes._subplots.AxesSubplot at 0x7f77f8326cd0>"
      ]
     },
     "execution_count": 147,
     "metadata": {},
     "output_type": "execute_result"
    },
    {
     "data": {
      "image/png": "[encoded data removed]",
      "text/plain": [
       "<Figure size 432x288 with 1 Axes>"
      ]
     },
     "metadata": {
      "needs_background": "light"
     },
     "output_type": "display_data"
    }
   ],
   "source": [
    "sns.barplot(x=\"count\", y=\"Go Biological Process\", data=df_pantherchart_score_3)"
   ]
  },
  {
   "cell_type": "code",
   "execution_count": 135,
   "metadata": {},
   "outputs": [
    {
     "data": {
      "text/html": [
       "<div>\n",
       "<style scoped>\n",
       "    .dataframe tbody tr th:only-of-type {\n",
       "        vertical-align: middle;\n",
       "    }\n",
       "\n",
       "    .dataframe tbody tr th {\n",
       "        vertical-align: top;\n",
       "    }\n",
       "\n",
       "    .dataframe thead th {\n",
       "        text-align: right;\n",
       "    }\n",
       "</style>\n",
       "<table border=\"1\" class=\"dataframe\">\n",
       "  <thead>\n",
       "    <tr style=\"text-align: right;\">\n",
       "      <th></th>\n",
       "      <th>Go Biological Process</th>\n",
       "      <th>count</th>\n",
       "    </tr>\n",
       "  </thead>\n",
       "  <tbody>\n",
       "    <tr>\n",
       "      <td>0</td>\n",
       "      <td>cellular process (GO:0009987)</td>\n",
       "      <td>133</td>\n",
       "    </tr>\n",
       "    <tr>\n",
       "      <td>1</td>\n",
       "      <td>reproductive process (GO:0022414)</td>\n",
       "      <td>2</td>\n",
       "    </tr>\n",
       "    <tr>\n",
       "      <td>2</td>\n",
       "      <td>multi-organism process (GO:0051704)</td>\n",
       "      <td>1</td>\n",
       "    </tr>\n",
       "    <tr>\n",
       "      <td>3</td>\n",
       "      <td>localization (GO:0051179)</td>\n",
       "      <td>45</td>\n",
       "    </tr>\n",
       "    <tr>\n",
       "      <td>4</td>\n",
       "      <td>interspecies interaction between organisms (GO...</td>\n",
       "      <td>4</td>\n",
       "    </tr>\n",
       "  </tbody>\n",
       "</table>\n",
       "</div>"
      ],
      "text/plain": [
       "                               Go Biological Process  count\n",
       "0                      cellular process (GO:0009987)    133\n",
       "1                  reproductive process (GO:0022414)      2\n",
       "2                multi-organism process (GO:0051704)      1\n",
       "3                          localization (GO:0051179)     45\n",
       "4  interspecies interaction between organisms (GO...      4"
      ]
     },
     "execution_count": 135,
     "metadata": {},
     "output_type": "execute_result"
    }
   ],
   "source": [
    "df_pantherchart_score_1.head()"
   ]
  },
  {
   "cell_type": "code",
   "execution_count": null,
   "metadata": {},
   "outputs": [],
   "source": [
    "# Part Three - Create a plain text file of the NCBI UIDs for all of the gene-score 1 SFARI gene\n",
    "\n",
    "ncbi_uids_score_1 = list(df_gene_score_1[\"GeneID\"])\n",
    "\n",
    "textfile = open(\"ncbi_uids_score_1.txt\", \"w\")\n",
    "for element in ncbi_uids_score_1:\n",
    "    textfile.write(str(element) + \"\\n\") \n",
    "textfile.close()"
   ]
  },
  {
   "cell_type": "code",
   "execution_count": null,
   "metadata": {},
   "outputs": [],
   "source": [
    "# Then, using the STRING website (https://string-db.org/) upload the gene-score 1 gene list, select “homo sapiens” \n",
    "# In this network the genes are the nodes and the interactions between them the edges (connections). \n",
    "# Click the “analysis” option near the bottom and report the following statistics: \n",
    "# “number of nodes”, “number of edges” and “average node degree” (3 marks).\n",
    "\n",
    "# number of nodes:\t206\n",
    "# number of edges:\t1404\n",
    "# average node degree:\t13.6\n",
    "# avg. local clustering coefficient:\t0.438\n",
    "# expected number of edges:\t408\n",
    "# PPI enrichment p-value:\t< 1.0e-16\n",
    "# your network has significantly more interactions\n",
    "# than expected (what does that mean?)\n",
    "\n",
    "# This means that your proteins have more interactions among themselves than what would be expected for a \n",
    "# random set of proteins of the same size and degree distribution drawn from the genome. \n",
    "# Such an enrichment indicates that the proteins are at least partially biologically connected, as a group."
   ]
  },
  {
   "cell_type": "code",
   "execution_count": 60,
   "metadata": {},
   "outputs": [],
   "source": [
    "def write_prot_name_to_file(df, file_name):\n",
    "    textfile = open(file_name, \"w\")\n",
    "    for row in df.iterrows():\n",
    "        textfile.write(str(row[1][\"protein name\"]) + \"\\n\")\n",
    "    textfile.close()"
   ]
  },
  {
   "cell_type": "code",
   "execution_count": 61,
   "metadata": {},
   "outputs": [],
   "source": [
    "# Task 2\n",
    "\n",
    "# Click the “cluster” option and select “MCL clustering” with the default option. \n",
    "# Download the “MCL clusters in TSV format” file. \n",
    "# From this, find the two biggest clusters produced by the MCL clustering and \n",
    "# use the PantherDB tool as in Part Two to analyse the function of genes in these clusters.\n",
    "# This time instead of selecting “Biological Process” ontology use the “Pathway” ontology (6 marks)\n",
    "\n",
    "cluster_df = pd.read_csv(\"string_MCL_clusters.tsv\", sep=\"\\t\")\n",
    "\n",
    "# Two biggest clusters are 1 and 2\n",
    "\n",
    "clusters_1_2_df = cluster_df[(cluster_df[\"cluster number\"] == 1) | (cluster_df[\"cluster number\"] == 2)]\n",
    "\n",
    "write_prot_name_to_file(clusters_1_2_df, \"MCL_clusters_proteins.txt\")"
   ]
  },
  {
   "cell_type": "code",
   "execution_count": null,
   "metadata": {},
   "outputs": [],
   "source": [
    "# Task 3\n",
    "# Click the “exports” option and download the network as a “bitmap image” file (1 mark)."
   ]
  }
 ],
 "metadata": {
  "kernelspec": {
   "display_name": "Python 3",
   "language": "python",
   "name": "python3"
  },
  "language_info": {
   "codemirror_mode": {
    "name": "ipython",
    "version": 3
   },
   "file_extension": ".py",
   "mimetype": "text/x-python",
   "name": "python",
   "nbconvert_exporter": "python",
   "pygments_lexer": "ipython3",
   "version": "3.7.6"
  }
 },
 "nbformat": 4,
 "nbformat_minor": 4
}
